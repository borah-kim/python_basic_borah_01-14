{
  "nbformat": 4,
  "nbformat_minor": 0,
  "metadata": {
    "colab": {
      "provenance": [],
      "authorship_tag": "ABX9TyPJVzbkqbsCQ/WFdO5/N4D7",
      "include_colab_link": true
    },
    "kernelspec": {
      "name": "python3",
      "display_name": "Python 3"
    },
    "language_info": {
      "name": "python"
    }
  },
  "cells": [
    {
      "cell_type": "markdown",
      "metadata": {
        "id": "view-in-github",
        "colab_type": "text"
      },
      "source": [
        "<a href=\"https://colab.research.google.com/github/borah-kim/python_basic_borah_01-14/blob/main/8%EC%9D%BC%EC%B0%A8_set_%EC%82%AC%EC%9A%A9%EC%9E%90%EC%A0%95%EC%9D%98%ED%95%A8%EC%88%98.ipynb\" target=\"_parent\"><img src=\"https://colab.research.google.com/assets/colab-badge.svg\" alt=\"Open In Colab\"/></a>"
      ]
    },
    {
      "cell_type": "markdown",
      "source": [
        "## 컬렉션 데이터 - set\n",
        "* 세트명 = {값1, 값2, 값3 ,,,}"
      ],
      "metadata": {
        "id": "e9AClQkxGHgl"
      }
    },
    {
      "cell_type": "code",
      "execution_count": null,
      "metadata": {
        "colab": {
          "base_uri": "https://localhost:8080/"
        },
        "id": "_rtxo0BwEY_G",
        "outputId": "beb834e3-0849-4007-94d6-9bde71da59be"
      },
      "outputs": [
        {
          "output_type": "stream",
          "name": "stdout",
          "text": [
            "{20}\n",
            "{20, 40, 10, 30}\n",
            "{10, 30}\n"
          ]
        }
      ],
      "source": [
        "a = {10, 20, 30}\n",
        "b = {20, 40}\n",
        "\n",
        "print(a&b)   #교집합\n",
        "print(a|b)   #합집합\n",
        "print(a-b)   #차집합"
      ]
    },
    {
      "cell_type": "markdown",
      "source": [
        "## add() 값1개추가 update() 값여러개추가 remove() 특정값삭제"
      ],
      "metadata": {
        "id": "prXTJXwNG-YO"
      }
    },
    {
      "cell_type": "markdown",
      "source": [
        "##사용자 정의함수\n",
        "\n",
        "```\n",
        "def 함수명():\n",
        "  명령문\n",
        "  명령문\n",
        "\n",
        "함수명()\n",
        "```"
      ],
      "metadata": {
        "id": "txPqcnVaJrhG"
      }
    },
    {
      "cell_type": "code",
      "source": [
        "#함수정의\n",
        "def infoper():\n",
        "  print('영등포구')\n",
        "  print('김보라')\n",
        "\n",
        "#함수호출\n",
        "for i in range(10):\n",
        "  infoper()\n"
      ],
      "metadata": {
        "id": "B3AIQ-KlJW71"
      },
      "execution_count": null,
      "outputs": []
    },
    {
      "cell_type": "code",
      "source": [
        "#함수인수이용\n",
        "#함수정의\n",
        "def infoper(addr,name):\n",
        "  print(addr)\n",
        "  print(name)\n",
        "\n",
        "\n",
        "#함수호출\n",
        "addr = input('주소입력>>')\n",
        "name = input('이름>>')\n",
        "infoper(addr,name)"
      ],
      "metadata": {
        "colab": {
          "base_uri": "https://localhost:8080/"
        },
        "id": "BpxZxD7kK7cO",
        "outputId": "ace0bf6f-9bc5-4195-84fb-e671604aa4ba"
      },
      "execution_count": null,
      "outputs": [
        {
          "output_type": "stream",
          "name": "stdout",
          "text": [
            "주소입력>>444\n",
            "이름>>5\n",
            "444\n",
            "5\n"
          ]
        }
      ]
    },
    {
      "cell_type": "markdown",
      "source": [
        "## 함수호출할때 괄호 안에 인수를 기술.. 만들때 정의된 값이 변수\n",
        "###줙지역변수  전역변수\n"
      ],
      "metadata": {
        "id": "iF6rS_tQMoam"
      }
    },
    {
      "cell_type": "code",
      "source": [
        "#더하기 빼기 함수 작성\n",
        "\n",
        "# def calc''''\n",
        "\n",
        "def calc(a,b,c):\n",
        "  r1 = a+b+c\n",
        "  r2 = r1/3\n",
        "  # print('더하기', r1)\n",
        "  # print('빼기',r2)\n",
        "  return  r1, r2\n",
        "\n",
        "x, y = calc(100,200,300)\n",
        "print(x,y)"
      ],
      "metadata": {
        "colab": {
          "base_uri": "https://localhost:8080/"
        },
        "id": "xfkmdGc5MMxm",
        "outputId": "a784e83c-d576-4ffb-91c3-42e71b0d16b4"
      },
      "execution_count": null,
      "outputs": [
        {
          "output_type": "stream",
          "name": "stdout",
          "text": [
            "600 200.0\n"
          ]
        }
      ]
    },
    {
      "cell_type": "code",
      "source": [
        "#사용자로부터 입력받아 구구단을 출력하는 프로그램 29이외의 것을 입력하면 입력오류\n",
        "\n",
        "x = int( input ('출력을 원하는 단을 입력:') )\n",
        "\n",
        "print(f\"***{x}단***\")\n",
        "\n",
        "i = 1\n",
        "for i in range(10):\n",
        "  r1 = x * i\n",
        "  print(f'{x} * {i} = {r1:.1f}')\n",
        "  i =+ 1\n",
        "\n"
      ],
      "metadata": {
        "colab": {
          "base_uri": "https://localhost:8080/"
        },
        "id": "FqoKoeDEPHKn",
        "outputId": "6edbccf3-8b86-4d91-9a2f-b44fdd6c0bbc"
      },
      "execution_count": null,
      "outputs": [
        {
          "output_type": "stream",
          "name": "stdout",
          "text": [
            "출력을 원하는 단을 입력:4\n",
            "***4단***\n",
            "4 * 0 = 0.0\n",
            "4 * 1 = 4.0\n",
            "4 * 2 = 8.0\n",
            "4 * 3 = 12.0\n",
            "4 * 4 = 16.0\n",
            "4 * 5 = 20.0\n",
            "4 * 6 = 24.0\n",
            "4 * 7 = 28.0\n",
            "4 * 8 = 32.0\n",
            "4 * 9 = 36.0\n"
          ]
        }
      ]
    },
    {
      "cell_type": "code",
      "source": [
        "###\n",
        "\n",
        "dan = int(input('단 입력>>'))\n",
        "\n",
        "if dan >= 2 and dan <=9:\n",
        "  for i in range(1,10):\n",
        "    print(f'{dan} * {i} = {dan * i}')\n",
        "else:\n",
        "  print('입력오류!!')"
      ],
      "metadata": {
        "colab": {
          "base_uri": "https://localhost:8080/"
        },
        "id": "tCubaPliQQnX",
        "outputId": "3dcb9ee8-4aa2-4733-ed65-ae3a634fb02e"
      },
      "execution_count": null,
      "outputs": [
        {
          "output_type": "stream",
          "name": "stdout",
          "text": [
            "단 입력>>3\n",
            "3 * 1 = 3\n",
            "3 * 2 = 6\n",
            "3 * 3 = 9\n",
            "3 * 4 = 12\n",
            "3 * 5 = 15\n",
            "3 * 6 = 18\n",
            "3 * 7 = 21\n",
            "3 * 8 = 24\n",
            "3 * 9 = 27\n"
          ]
        }
      ]
    },
    {
      "cell_type": "code",
      "source": [
        "###\n",
        "\n",
        "#함수정의\n",
        "def gugudan(dan):\n",
        "\n",
        "  if dan >= 2 and dan <=9:\n",
        "    for i in range(1,10):\n",
        "      print(f'{dan} * {i} = {dan * i}')\n",
        "\n",
        "  else:\n",
        "    print('입력오류!!')\n",
        "\n",
        "\n",
        "dan = int(input('단 입력>>'))\n",
        "\n",
        "#함수호출\n",
        "gugudan(dan)\n"
      ],
      "metadata": {
        "id": "GOz4mAsbQ0-P"
      },
      "execution_count": null,
      "outputs": []
    },
    {
      "cell_type": "code",
      "source": [
        "#실습2 사용자로부터 3개의 수자를 입력받아 가장 큰 수를 구하는 프로그래\n",
        "\n",
        "\n",
        "a = int( input('첫번째숫자입력>>'))\n",
        "b = int( input('두번째숫자입력>>'))\n",
        "c = int( input('세번째숫자입력>>'))\n",
        "\n",
        "# if a<=b:\n",
        "#   max = b\n",
        "# elif a>=b:\n",
        "#   max = a\n",
        "# elif c<=\n",
        "\n",
        "print( f' {max} ')"
      ],
      "metadata": {
        "id": "kUZzKo-aSLPX"
      },
      "execution_count": null,
      "outputs": []
    },
    {
      "cell_type": "code",
      "source": [
        "####\n",
        "#함수정의\n",
        "def findMax(a,b,c):\n",
        "\n",
        "  if a>b :\n",
        "    max = a\n",
        "\n",
        "  else:\n",
        "    max = b\n",
        "\n",
        "  if max<c:\n",
        "    max = c\n",
        "\n",
        "  return max\n",
        "\n",
        "\n",
        "#함수호출\n",
        "in_a = int(input('첫번째숫자입력>>'))\n",
        "in_b = int(input('두번째숫자입력>>'))\n",
        "in_c = int(input('세번째숫자입력>>'))\n",
        "\n",
        "rmax = findMax(in_a,in_b,in_c)\n",
        "print('가장큰수는', rmax)"
      ],
      "metadata": {
        "id": "Um46joF6S6av"
      },
      "execution_count": null,
      "outputs": []
    },
    {
      "cell_type": "code",
      "source": [
        "#문제1 사용자로부터 반지름을 입력받아 원의 둘레와 원의 넓이를 출력하는 프로그램을 작성\n",
        "#\n",
        "\n",
        "\n",
        "\n",
        "r = int(input'원의 반지름 입력:')\n",
        "\n",
        "def mind:\n",
        "  r2 = 2 * 3.14 * r\n",
        "  r3 = r **2 * 3.14\n",
        "  return r\n",
        "\n",
        "print( f'원의둘레:{r2}')\n",
        "print( f'원의넓이:{r3}')\n",
        "\n"
      ],
      "metadata": {
        "id": "d0Z8KykzTku3"
      },
      "execution_count": null,
      "outputs": []
    },
    {
      "cell_type": "code",
      "source": [
        "###\n",
        "\n",
        "def cicleRound(r):\n",
        "  pi = 3.14\n",
        "  cr = 2 * r * pi\n",
        "\n",
        "  return cr\n",
        "\n",
        "#\n",
        "def cicleArea(r):\n",
        "  pi = 3.14\n",
        "  ca = r ** 2 * pickle\n",
        "  return ca"
      ],
      "metadata": {
        "id": "8GrQTaEnX91I"
      },
      "execution_count": null,
      "outputs": []
    },
    {
      "cell_type": "code",
      "source": [
        "###\n",
        "n= int( input('원의반지름입력'))\n",
        "\n",
        "result1 = circleAround(n)\n",
        "result2 = circleArea(n)\n",
        "\n",
        "print('원의둘레 : %2f' % result1)\n",
        "print('원의넓이 : %2f' % result2)"
      ],
      "metadata": {
        "id": "2q4z01zkYbOQ"
      },
      "execution_count": null,
      "outputs": []
    },
    {
      "cell_type": "markdown",
      "source": [
        "##\n",
        "  os 운영체제와상호작용하기위한기능을제공\n",
        "  sys 파이썬인터프리터와 관련된기능제공\n",
        "  math 수학적인 연산을 수행\n",
        "  random 난수를 생성하기 위한기능제공\n",
        "  datetime 날짜와 시간을 다루기 위한 기능을 제공\n"
      ],
      "metadata": {
        "id": "XGX_y9GUaCxI"
      }
    },
    {
      "cell_type": "markdown",
      "source": [
        "##\n",
        "  1.import\n",
        "  2.import모듈as별칭\n",
        "  3.from모듈import함수1함수2,,,\n",
        "  4.from모듈import"
      ],
      "metadata": {
        "id": "8TRM_UtIbpxx"
      }
    },
    {
      "cell_type": "code",
      "source": [
        "#영어단어5문제 출제하는 프로그램을 만들어보세요\n",
        "\n",
        "i = [friend:친구, apple:사과, book:책, dog:개]\n",
        "\n",
        "print('영어단어의뜻은무엇일까요?')\n",
        "dan = input('뜻을 입력하세요 종료:0')\n",
        "\n",
        "if dan = i:\n",
        "  print('정답입니다')\n",
        "else:\n",
        "  print('다시입력')"
      ],
      "metadata": {
        "id": "T4zJHhK1cuUJ"
      },
      "execution_count": null,
      "outputs": []
    },
    {
      "cell_type": "code",
      "source": [
        "####영어단어5문제 출제하는 프로그램을 만들어보세요\n",
        "word_data = {'flower':'꽃', 'apple':'사과', 'book':'책', 'dog':'개'}\n",
        "def data_add():\n",
        "  eng_data = input('영어입력>>')\n",
        "  kor_data= input('영어 뜻 입력>>')\n",
        "  word_data[eng_data] = kor_data\n",
        "  print(word_data)\n",
        "\n",
        "def eng_question():\n",
        "\n",
        "  import random\n",
        "\n",
        "  # word_data = {'friend':'친구', 'apple':'사과', 'book':'책', 'dog':'개'}\n",
        "  correct = 0\n",
        "  totQ = 0\n",
        "\n",
        "  while True:\n",
        "\n",
        "    word=random.choice(list(word_data.keys())) #################################################################\n",
        "    # print(random.choice(word))\n",
        "    print(f'다음단어의뜻은무엇일까요?\\t{word}')\n",
        "\n",
        "    totQ +=1\n",
        "\n",
        "    guess = input('뜻을 입력하세요>>')\n",
        "\n",
        "    if guess == word_data[word]:\n",
        "      print('정답')\n",
        "      correct+=1\n",
        "\n",
        "    else:\n",
        "      print('오답')\n",
        "      print(word_data[word])\n",
        "\n",
        "    quit = input('계속하시겠습니까?? 종료:N ')\n",
        "    if quit == 'N' :\n",
        "      break\n",
        "\n",
        "  print(f'문제수:{totQ}, 정답수:{correct}')\n",
        "\n",
        "#함수호출\n",
        "menu = int(input('메뉴선택(1.데이터추가,2.영어단어퀴즈)'))\n",
        "if menu == 1:\n",
        "  # word_data.append\n",
        "  # in = input('영단어입력하세요')\n",
        "  # in2 = input('단어뜻입력하세요')\n",
        "  data_add()\n",
        "\n",
        "elif menu == 2:\n",
        "  eng_question()\n",
        "else:\n",
        "  print('없는 메뉴입니다.')\n"
      ],
      "metadata": {
        "colab": {
          "base_uri": "https://localhost:8080/"
        },
        "id": "wonHvlg7dWnQ",
        "outputId": "d56ee710-d7bb-4d2c-e5bb-6b6fa185e50f"
      },
      "execution_count": null,
      "outputs": [
        {
          "output_type": "stream",
          "name": "stdout",
          "text": [
            "메뉴선택(1.데이터추가,2.영어단어퀴즈)1\n",
            "영어입력>>tree\n",
            "영어 뜻 입력>>나무\n",
            "{'friend': '친구', 'apple': '사과', 'book': '책', 'dog': '개', 'tree': '나무'}\n"
          ]
        }
      ]
    },
    {
      "cell_type": "code",
      "source": [
        "word_data"
      ],
      "metadata": {
        "colab": {
          "base_uri": "https://localhost:8080/"
        },
        "id": "Nl0Uh8YRlRE7",
        "outputId": "c870d121-9ba4-4456-f125-b7c600a01cc5"
      },
      "execution_count": null,
      "outputs": [
        {
          "output_type": "execute_result",
          "data": {
            "text/plain": [
              "{'friend': '친구', 'apple': '사과', 'book': '책', 'dog': '개', 'school': '학교'}"
            ]
          },
          "metadata": {},
          "execution_count": 88
        }
      ]
    },
    {
      "cell_type": "code",
      "source": [
        "#구구단게임을컴퓨터와 하는 프로그램을 다음의 조건대로 작성\n",
        "# 컴퓨터가 임의의 구구단을 하나 생성한 후 이를 플레이어에게 정해진 시간 안에 맞히라고 한다\n",
        "# 플레이어는 정해진 시간 안에 이를 맞히면 맞힌 개수로 인정하고 계산이 틀렸거나 시간이 초과하면 못맞힌 것으로 간주한다.\n",
        "\n",
        "correct = 0\n",
        "tot = 0\n",
        "\n",
        "a= random(1,10)\n",
        "b= random(1,10)\n",
        "result = a * b\n",
        "\n",
        "print('**실행결과**')\n",
        "\n",
        "x = int(input('몇번할까요??'))\n",
        "\n",
        "for i in range(x):\n",
        "\n",
        "  print(f'{a} X {b} = {result}?')\n",
        "  tot+=1\n",
        "  answer = int(input('>>'))\n",
        "\n",
        "  if answer == result:\n",
        "    print('정답')\n",
        "    correct+=1\n",
        "  else:\n",
        "    print('다시입력')\n"
      ],
      "metadata": {
        "id": "spaXqVTumEzT"
      },
      "execution_count": null,
      "outputs": []
    },
    {
      "cell_type": "code",
      "source": [
        "###\n",
        "\n",
        "#함수정의\n",
        "def gugudan(count):\n",
        "\n",
        "  import random\n",
        "\n",
        "  import time\n",
        "\n",
        "  correct = 0\n",
        "\n",
        "  for i in range(count):\n",
        "\n",
        "    a = random.randint(2,9)\n",
        "    b = random.randint(1,9)\n",
        "\n",
        "    print(f'{a} X {b} ??')\n",
        "    sTime = time.time()\n",
        "\n",
        "    userin = int(input('>>'))\n",
        "\n",
        "    eTime = time.time()\n",
        "\n",
        "    print(f'{eTime-sTime:.1f}초만에 답을 했어요')\n",
        "\n",
        "    if userin == a*b:\n",
        "      print('맞습니다.')\n",
        "      correct += 1\n",
        "    else:\n",
        "      print('재도전!!!')\n",
        "\n",
        "  return correct\n",
        "\n",
        "#함수호출\n",
        "count = int(input('몇번할까요??>>'))\n",
        "r_correct = gugudan(count)\n",
        "print(f'{count}문제 중, {r_correct}문제 맞았습니다.')\n"
      ],
      "metadata": {
        "colab": {
          "base_uri": "https://localhost:8080/"
        },
        "id": "mqf41G-Xn6aT",
        "outputId": "45e2937b-1265-4932-9d75-bddd7eb6dbcc"
      },
      "execution_count": null,
      "outputs": [
        {
          "output_type": "stream",
          "name": "stdout",
          "text": [
            "몇번할까요??>>2\n",
            "9 X 4 ??\n",
            ">>36\n",
            "2.8초만에 답을 했어요\n",
            "맞습니다.\n",
            "8 X 4 ??\n",
            ">>32\n",
            "2.4초만에 답을 했어요\n",
            "맞습니다.\n",
            "2문제 중, 2문제 맞았습니다.\n"
          ]
        }
      ]
    },
    {
      "cell_type": "code",
      "source": [
        "import time\n",
        "\n",
        "print(time.time())"
      ],
      "metadata": {
        "colab": {
          "base_uri": "https://localhost:8080/"
        },
        "id": "z1xyT0VNqiBT",
        "outputId": "fcc9b6c9-deb6-4721-e967-1b8b85518616"
      },
      "execution_count": null,
      "outputs": [
        {
          "output_type": "stream",
          "name": "stdout",
          "text": [
            "1736738446.2553344\n"
          ]
        }
      ]
    }
  ]
}